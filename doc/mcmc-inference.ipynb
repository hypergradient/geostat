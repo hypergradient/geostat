version https://git-lfs.github.com/spec/v1
oid sha256:1e0db9b2e7e1efb51836bd73267f3ff21c5a6353a83761b1d7abc9626da8bf68
size 944294
