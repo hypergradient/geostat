version https://git-lfs.github.com/spec/v1
oid sha256:9f5155bb0fdf7842bd889d5e6ff1babf9ab47ef1999651cf20dc580a40f23302
size 862898
