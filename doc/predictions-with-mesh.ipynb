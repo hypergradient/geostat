{
 "cells": [
  {
   "cell_type": "code",
   "execution_count": null,
   "metadata": {},
   "outputs": [],
   "source": [
    "from geostat import GP, Mesh, NormalizingFeaturizer\n",
    "import matplotlib.pyplot as pp\n",
    "import numpy as np"
   ]
  },
  {
   "cell_type": "markdown",
   "metadata": {},
   "source": [
    "# Overview\n",
    "\n",
    "In this notebook we will show how `Mesh` is used to make prediction locations. We'll generate synthetic data, fit a `GP` to it, and make predictions using `Mesh`."
   ]
  },
  {
   "cell_type": "markdown",
   "metadata": {},
   "source": [
    "# Synthesizing data\n",
    "\n",
    "We will synthesize data at 200 random locations drawn from a 2D unit normal distribution."
   ]
  },
  {
   "cell_type": "code",
   "execution_count": null,
   "metadata": {},
   "outputs": [],
   "source": [
    "locs = np.random.normal(size = [200, 2])"
   ]
  },
  {
   "cell_type": "markdown",
   "metadata": {},
   "source": [
    "Declare the terms of the spatial trend:"
   ]
  },
  {
   "cell_type": "code",
   "execution_count": null,
   "metadata": {},
   "outputs": [],
   "source": [
    "def trend_terms(x, y): return x"
   ]
  },
  {
   "cell_type": "markdown",
   "metadata": {},
   "source": [
    "Create a featurizer that the Gaussian process class `GP` will use to convert locations into trend features:"
   ]
  },
  {
   "cell_type": "code",
   "execution_count": null,
   "metadata": {},
   "outputs": [],
   "source": [
    "featurizer = NormalizingFeaturizer(trend_terms, locs)"
   ]
  },
  {
   "cell_type": "markdown",
   "metadata": {},
   "source": [
    "Instantiate a `GP` and immediately call `generate` to generate synthetic observations.\n",
    "  * `parameter0` holds the geostatistical parameters for the `GP`.\n",
    "  * `alpha` parameterizes the normal distribution prior for trend coefficients. "
   ]
  },
  {
   "cell_type": "code",
   "execution_count": null,
   "metadata": {},
   "outputs": [],
   "source": [
    "obs = GP(featurizer = featurizer,\n",
    "         covariance_func = 'squared-exp',\n",
    "         parameters = dict(range=0.5, sill=1., nugget=0.25),\n",
    "         hyperparameters = dict(alpha=0.2),\n",
    "         verbose=True).generate(locs)"
   ]
  },
  {
   "cell_type": "markdown",
   "metadata": {},
   "source": [
    "When the data is plotted, you can see an overall trend with some localized variations."
   ]
  },
  {
   "cell_type": "code",
   "execution_count": null,
   "metadata": {},
   "outputs": [],
   "source": [
    "vmin, vmax = obs.min(), obs.max()\n",
    "c = pp.scatter(locs[:, 0], locs[:, 1], c=obs, vmin=vmin, vmax=vmax)\n",
    "pp.colorbar(c)\n",
    "pp.title('Synthetic data')\n",
    "pp.show()"
   ]
  },
  {
   "cell_type": "markdown",
   "metadata": {},
   "source": [
    "# Inferring parameters"
   ]
  },
  {
   "cell_type": "markdown",
   "metadata": {},
   "source": [
    "Now we create a second `GP`. This time we pass in the data (`locs` and `obs`) and it will fit the geospatial parameters to the data. Here `parameters` holds initial geospatial parameters, which are different that those in the first `GP`, but after fitting they converge to something close."
   ]
  },
  {
   "cell_type": "code",
   "execution_count": null,
   "metadata": {},
   "outputs": [],
   "source": [
    "gp = GP(featurizer = featurizer,\n",
    "        covariance_func = 'squared-exp',\n",
    "        parameters = dict(range=1.0, sill=0.5, nugget=0.5),\n",
    "        hyperparameters = dict(alpha=obs.ptp()**2, reg=0, train_iters=300),\n",
    "        verbose=True).fit(locs, obs)"
   ]
  },
  {
   "cell_type": "markdown",
   "metadata": {},
   "source": [
    "# Generating predictions\n",
    "\n",
    "Create mesh using bounding box of data, and crop to convex hull."
   ]
  },
  {
   "cell_type": "code",
   "execution_count": null,
   "metadata": {},
   "outputs": [],
   "source": [
    "mesh = Mesh(locs, nx=100).convex_hull()"
   ]
  },
  {
   "cell_type": "markdown",
   "metadata": {},
   "source": [
    "Call `GP` to get predictions at mesh locations:"
   ]
  },
  {
   "cell_type": "code",
   "execution_count": null,
   "metadata": {},
   "outputs": [],
   "source": [
    "mean, var = gp.predict(locs, obs, mesh.locations())"
   ]
  },
  {
   "cell_type": "markdown",
   "metadata": {},
   "source": [
    "Create a slice for prediction mean and plot:"
   ]
  },
  {
   "cell_type": "code",
   "execution_count": null,
   "metadata": {},
   "outputs": [],
   "source": [
    "meshx, meshy, value = mesh.slice(mean)\n",
    "c = pp.pcolormesh(meshx, meshy, value, vmin=vmin, vmax=vmax)\n",
    "pp.colorbar(c)\n",
    "pp.title('Prediction mean')\n",
    "pp.show()"
   ]
  },
  {
   "cell_type": "markdown",
   "metadata": {},
   "source": [
    "Do the same for prediction variance:"
   ]
  },
  {
   "cell_type": "code",
   "execution_count": null,
   "metadata": {},
   "outputs": [],
   "source": [
    "meshx, meshy, value = mesh.slice(var)\n",
    "c = pp.pcolormesh(meshx, meshy, value, cmap='gist_heat_r')\n",
    "pp.colorbar(c)\n",
    "pp.title('Prediction variance')\n",
    "pp.show()"
   ]
  }
 ],
 "metadata": {
  "kernelspec": {
   "display_name": "geostat",
   "language": "python",
   "name": "geostat"
  },
  "language_info": {
   "codemirror_mode": {
    "name": "ipython",
    "version": 3
   },
   "file_extension": ".py",
   "mimetype": "text/x-python",
   "name": "python",
   "nbconvert_exporter": "python",
   "pygments_lexer": "ipython3",
   "version": "3.9.0"
  }
 },
 "nbformat": 4,
 "nbformat_minor": 2
}
