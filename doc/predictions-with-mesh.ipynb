version https://git-lfs.github.com/spec/v1
oid sha256:dfc2b769da23d916c1094fd72f179db280a0fba476a9b0eb1e4fc13b03b9b36c
size 3095592
