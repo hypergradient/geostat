version https://git-lfs.github.com/spec/v1
oid sha256:4ade98aa533406d106b3cdb5b9357c9d3fd62f5d5541c72b18f96f6f423de6a5
size 3014278
