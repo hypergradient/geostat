version https://git-lfs.github.com/spec/v1
oid sha256:73ad19e139b7b37a67a10e6c52cb8ecaa072bd3446adfffcb36d29fe3dde81f1
size 3054147
