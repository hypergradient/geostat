version https://git-lfs.github.com/spec/v1
oid sha256:5df7c1bf316ee6091e38eca2f3f4238b4f24b5bf22cde885df76cd8d9863e3b8
size 3093326
