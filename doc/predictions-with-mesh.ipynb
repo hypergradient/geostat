{
 "cells": [
  {
   "cell_type": "code",
   "execution_count": null,
   "metadata": {},
   "outputs": [],
   "source": [
    "from geostat import GP, Mesh, NormalizingFeaturizer\n",
    "import matplotlib.pyplot as pp\n",
    "import numpy as np\n",
    "from shapely.geometry import Point, Polygon\n",
    "import shapely.vectorized as shv\n",
    "import geopandas as gpd\n",
    "import contextily as ctx"
   ]
  },
  {
   "cell_type": "markdown",
   "metadata": {},
   "source": [
    "# Overview\n",
    "\n",
    "In this notebook we will show how `Mesh` is used to make prediction locations. We'll generate synthetic data on a map of watersheds in Berkeley, California; fit a `GP` to the data; and make predictions using `Mesh`."
   ]
  },
  {
   "cell_type": "markdown",
   "metadata": {},
   "source": [
    "# Synthesizing data\n",
    "\n",
    "We will synthesize data at 200 random locations drawn from inside a polygon for Berkeley watersheds."
   ]
  },
  {
   "cell_type": "code",
   "execution_count": null,
   "metadata": {},
   "outputs": [],
   "source": [
    "berkeleydf = gpd.read_file(\"./berkeley-watershed.zip\")\n",
    "berkeley = berkeleydf['geometry'].iloc[0]\n",
    "\n",
    "x0, y0, x1, y1 = berkeley.bounds\n",
    "locs = np.random.uniform(size = [2000, 2]) * [x1-x0, y1-y0] + [x0, y0] # Generate 2000 points.\n",
    "mask = [berkeley.contains(Point(p)) for p in locs]\n",
    "locs = locs[mask, :][:200, :] # Filter away points outside of shape and keep just 200."
   ]
  },
  {
   "cell_type": "markdown",
   "metadata": {},
   "source": [
    "Declare the terms of the spatial trend:"
   ]
  },
  {
   "cell_type": "code",
   "execution_count": null,
   "metadata": {},
   "outputs": [],
   "source": [
    "def trend_terms(x, y): return x"
   ]
  },
  {
   "cell_type": "markdown",
   "metadata": {},
   "source": [
    "Create a featurizer that the Gaussian process class `GP` will use to convert locations into trend features:"
   ]
  },
  {
   "cell_type": "code",
   "execution_count": null,
   "metadata": {},
   "outputs": [],
   "source": [
    "featurizer = NormalizingFeaturizer(trend_terms, locs)"
   ]
  },
  {
   "cell_type": "markdown",
   "metadata": {},
   "source": [
    "Instantiate a `GP` and immediately call `generate` to generate synthetic observations.\n",
    "  * `parameter0` holds the geostatistical parameters for the `GP`.\n",
    "  * `alpha` parameterizes the normal distribution prior for trend coefficients. "
   ]
  },
  {
   "cell_type": "code",
   "execution_count": null,
   "metadata": {},
   "outputs": [],
   "source": [
    "obs = GP(featurizer = featurizer,\n",
    "         covariance_func = 'squared-exp',\n",
    "         parameters = dict(range=2000, sill=1., nugget=0.25),\n",
    "         hyperparameters = dict(alpha=0.2),\n",
    "         verbose=True).generate(locs)\n",
    "\n",
    "vmin, vmax = obs.min(), obs.max()"
   ]
  },
  {
   "cell_type": "markdown",
   "metadata": {},
   "source": [
    "When the data is plotted, you can see an overall trend with some localized variations."
   ]
  },
  {
   "cell_type": "code",
   "execution_count": null,
   "metadata": {},
   "outputs": [],
   "source": [
    "fig, ax = pp.subplots(figsize=(7, 7), dpi=120)\n",
    "\n",
    "cax = pp.scatter(locs[:, 0], locs[:, 1], c=obs, vmin=vmin, vmax=vmax)\n",
    "\n",
    "berkeleydf.plot(ax=ax, fc='none', ec='black', lw=1)\n",
    "\n",
    "pp.colorbar(cax, shrink=0.7)\n",
    "\n",
    "ctx.add_basemap(ax, attribution=False, crs=berkeleydf.crs.to_string(), \n",
    "                source='https://basemap.nationalmap.gov/arcgis/rest/services/'\n",
    "                       'USGSImageryOnly/MapServer/tile/{z}/{y}/{x}')\n",
    "\n",
    "pp.title('Synthetic data')\n",
    "\n",
    "pp.tight_layout()\n",
    "pp.show()"
   ]
  },
  {
   "cell_type": "markdown",
   "metadata": {},
   "source": [
    "# Inferring parameters"
   ]
  },
  {
   "cell_type": "markdown",
   "metadata": {},
   "source": [
    "Now we create a second `GP`. This time we pass in the data (`locs` and `obs`) and it will fit the geospatial parameters to the data. Here `parameters` holds initial geospatial parameters, which are different that those in the first `GP`, but after fitting they converge to something close."
   ]
  },
  {
   "cell_type": "code",
   "execution_count": null,
   "metadata": {},
   "outputs": [],
   "source": [
    "gp = GP(featurizer = featurizer,\n",
    "        covariance_func = 'squared-exp',\n",
    "        parameters = dict(range=1000.0, sill=0.5, nugget=0.5),\n",
    "        hyperparameters = dict(alpha=obs.ptp()**2, reg=0, train_iters=300),\n",
    "        verbose=True).fit(locs, obs)"
   ]
  },
  {
   "cell_type": "markdown",
   "metadata": {},
   "source": [
    "# Generating predictions in convex hull\n",
    "\n",
    "Create a mesh using a convex hull for making predictions."
   ]
  },
  {
   "cell_type": "code",
   "execution_count": null,
   "metadata": {},
   "outputs": [],
   "source": [
    "mesh = Mesh.from_convex_hull(locs, nx=200)"
   ]
  },
  {
   "cell_type": "markdown",
   "metadata": {},
   "source": [
    "Call `GP` to get predictions at mesh locations:"
   ]
  },
  {
   "cell_type": "code",
   "execution_count": null,
   "metadata": {},
   "outputs": [],
   "source": [
    "mean, var = gp.predict(locs, obs, mesh.locations())"
   ]
  },
  {
   "cell_type": "markdown",
   "metadata": {},
   "source": [
    "Create a slice for prediction mean and plot:"
   ]
  },
  {
   "cell_type": "code",
   "execution_count": null,
   "metadata": {},
   "outputs": [],
   "source": [
    "meshx, meshy, value = mesh.slice(mean)\n",
    "\n",
    "fig, ax = pp.subplots(figsize=(7, 7), dpi=120)\n",
    "\n",
    "cax = pp.pcolormesh(meshx, meshy, value, vmin=vmin, vmax=vmax)\n",
    "\n",
    "berkeleydf.plot(ax=ax, fc='none', ec='black', lw=1)\n",
    "\n",
    "pp.colorbar(cax, shrink=0.7)\n",
    "\n",
    "ctx.add_basemap(ax, attribution=False, crs=berkeleydf.crs.to_string(), \n",
    "                source='https://basemap.nationalmap.gov/arcgis/rest/services/'\n",
    "                       'USGSImageryOnly/MapServer/tile/{z}/{y}/{x}')\n",
    "\n",
    "pp.title('Prediction mean')\n",
    "\n",
    "pp.tight_layout()\n",
    "pp.show()"
   ]
  },
  {
   "cell_type": "markdown",
   "metadata": {},
   "source": [
    "Do the same for prediction variance:"
   ]
  },
  {
   "cell_type": "code",
   "execution_count": null,
   "metadata": {},
   "outputs": [],
   "source": [
    "meshx, meshy, value = mesh.slice(var)\n",
    "\n",
    "fig, ax = pp.subplots(figsize=(7, 7), dpi=120)\n",
    "\n",
    "cax = pp.pcolormesh(meshx, meshy, value, cmap='gist_heat_r')\n",
    "\n",
    "berkeleydf.plot(ax=ax, fc='none', ec='black', lw=1)\n",
    "\n",
    "pp.colorbar(cax, shrink=0.7)\n",
    "\n",
    "ctx.add_basemap(ax, attribution=False, crs=berkeleydf.crs.to_string(), \n",
    "                source='https://basemap.nationalmap.gov/arcgis/rest/services/'\n",
    "                       'USGSImageryOnly/MapServer/tile/{z}/{y}/{x}')\n",
    "\n",
    "pp.title('Prediction variance')\n",
    "\n",
    "pp.tight_layout()\n",
    "pp.show()"
   ]
  },
  {
   "cell_type": "markdown",
   "metadata": {},
   "source": [
    "# Generating predictions in arbitrary shape\n",
    "\n",
    "Now instead, create a mesh using the shape for Berkeley watersheds to make predictions."
   ]
  },
  {
   "cell_type": "code",
   "execution_count": null,
   "metadata": {},
   "outputs": [],
   "source": [
    "mesh = Mesh.from_polygon(berkeley, nx=200)"
   ]
  },
  {
   "cell_type": "markdown",
   "metadata": {},
   "source": [
    "Make predictions:"
   ]
  },
  {
   "cell_type": "code",
   "execution_count": null,
   "metadata": {},
   "outputs": [],
   "source": [
    "mean, var = gp.predict(locs, obs, mesh.locations())"
   ]
  },
  {
   "cell_type": "markdown",
   "metadata": {},
   "source": [
    "Create a slice for prediction mean and plot:"
   ]
  },
  {
   "cell_type": "code",
   "execution_count": null,
   "metadata": {},
   "outputs": [],
   "source": [
    "meshx, meshy, value = mesh.slice(mean)\n",
    "\n",
    "fig, ax = pp.subplots(figsize=(7, 7), dpi=120)\n",
    "\n",
    "cax = pp.pcolormesh(meshx, meshy, value, vmin=vmin, vmax=vmax)\n",
    "\n",
    "# Add contour\n",
    "value_contains = shv.contains(berkeleydf.geometry.item(), meshx, meshy)\n",
    "value_mask = np.where(value_contains, value, np.nan)\n",
    "pp.contour(meshx, meshy, value_mask, colors='k', linewidths=0.5, alpha=0.8)\n",
    "\n",
    "\n",
    "berkeleydf.plot(ax=ax, fc='none', ec='black', lw=1)\n",
    "\n",
    "pp.colorbar(cax, shrink=0.7)\n",
    "\n",
    "ctx.add_basemap(ax, attribution=False, crs=berkeleydf.crs.to_string(), \n",
    "                source='https://basemap.nationalmap.gov/arcgis/rest/services/'\n",
    "                       'USGSImageryOnly/MapServer/tile/{z}/{y}/{x}')\n",
    "\n",
    "pp.title('Prediction mean')\n",
    "\n",
    "pp.tight_layout()\n",
    "pp.show()"
   ]
  },
  {
   "cell_type": "markdown",
   "metadata": {},
   "source": [
    "Do the same for prediction variance:"
   ]
  },
  {
   "cell_type": "code",
   "execution_count": null,
   "metadata": {},
   "outputs": [],
   "source": [
    "meshx, meshy, value = mesh.slice(var)\n",
    "\n",
    "fig, ax = pp.subplots(figsize=(7, 7), dpi=120)\n",
    "\n",
    "cax = pp.pcolormesh(meshx, meshy, value, cmap='gist_heat_r')\n",
    "\n",
    "berkeleydf.plot(ax=ax, fc='none', ec='black', lw=1)\n",
    "\n",
    "pp.colorbar(cax, shrink=0.7)\n",
    "\n",
    "ctx.add_basemap(ax, attribution=False, crs=berkeleydf.crs.to_string(), \n",
    "                source='https://basemap.nationalmap.gov/arcgis/rest/services/'\n",
    "                       'USGSImageryOnly/MapServer/tile/{z}/{y}/{x}')\n",
    "\n",
    "pp.title('Prediction variance')\n",
    "\n",
    "pp.tight_layout()\n",
    "pp.show()"
   ]
  }
 ],
 "metadata": {
  "kernelspec": {
   "display_name": "geostat",
   "language": "python",
   "name": "geostat"
  },
  "language_info": {
   "codemirror_mode": {
    "name": "ipython",
    "version": 3
   },
   "file_extension": ".py",
   "mimetype": "text/x-python",
   "name": "python",
   "nbconvert_exporter": "python",
   "pygments_lexer": "ipython3",
   "version": "3.9.0"
  }
 },
 "nbformat": 4,
 "nbformat_minor": 2
}
