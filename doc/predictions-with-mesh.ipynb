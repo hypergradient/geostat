version https://git-lfs.github.com/spec/v1
oid sha256:fce4f7c8720ef9ffc6e1f2ab7c75d9c579b37451e2b07ce9338df7f71a3bf41a
size 3104073
