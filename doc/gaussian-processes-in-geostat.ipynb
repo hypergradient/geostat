version https://git-lfs.github.com/spec/v1
oid sha256:402dee1abbb4d48e70d70ee2214b43deeb7ead92ffbd0b2d8f7ee923285007e6
size 290320
