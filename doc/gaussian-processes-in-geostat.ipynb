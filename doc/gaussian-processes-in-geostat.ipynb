version https://git-lfs.github.com/spec/v1
oid sha256:98d2fcf0ed4a5dcc6dc4fd81047ebef2eee20b0848451c11d90dcbeae2d1112c
size 189450
