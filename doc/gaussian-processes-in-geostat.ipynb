version https://git-lfs.github.com/spec/v1
oid sha256:c5d6bf6a0a444030b2bd90a2ed7cef8d46b1403fdcd9ebc9d096f4c8fb6f6ba3
size 286072
