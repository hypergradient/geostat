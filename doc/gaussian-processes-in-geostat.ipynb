version https://git-lfs.github.com/spec/v1
oid sha256:c1b6c11b60f911ec3c20e6c13dc2f014a0d75af0ea3ec9f29826d38e27382955
size 281414
