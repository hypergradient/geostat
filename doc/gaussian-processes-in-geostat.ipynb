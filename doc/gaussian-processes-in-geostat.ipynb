version https://git-lfs.github.com/spec/v1
oid sha256:d6ee9959fac2d4463e07f19a22dc4ba7a91442d17afe7b3d06bbe9031aab82b8
size 191008
