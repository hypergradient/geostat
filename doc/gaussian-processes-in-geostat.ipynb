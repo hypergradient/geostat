{
 "cells": [
  {
   "cell_type": "code",
   "execution_count": null,
   "metadata": {},
   "outputs": [],
   "source": [
    "from geostat import GP, Mesh, NormalizingFeaturizer\n",
    "import geostat.covfunc as cf\n",
    "import matplotlib.pyplot as pp\n",
    "import numpy as np"
   ]
  },
  {
   "cell_type": "markdown",
   "metadata": {},
   "source": [
    "# Overview\n",
    "\n",
    "In this notebook we will:\n",
    "  * Use a Gaussian process to generate synthetic data with known geospatial parameters.\n",
    "  * Use a second Gaussian process to infer the geospatial parameters from the synthetic data.\n",
    "  * Use the fitted Gaussian process to interpolate locations on a mesh."
   ]
  },
  {
   "cell_type": "markdown",
   "metadata": {},
   "source": [
    "# Synthesizing data\n",
    "\n",
    "We will synthesize data at mesh locations in a square centered on the origin.\n",
    "\n",
    "First define mesh locations using a `Mesh` object. The `nx` argument specifies 80 mesh coordinates in the x direction, and keeps the pitch the same in the y direction (which results in 80 mesh coordinates in that direction as well)."
   ]
  },
  {
   "cell_type": "code",
   "execution_count": null,
   "metadata": {},
   "outputs": [],
   "source": [
    "mesh = Mesh.from_bounds([-1, -1, 1, 1], nx=80)"
   ]
  },
  {
   "cell_type": "markdown",
   "metadata": {},
   "source": [
    "Declare the terms of the spatial trend:"
   ]
  },
  {
   "cell_type": "code",
   "execution_count": null,
   "metadata": {},
   "outputs": [],
   "source": [
    "def trend_terms(x, y): return x, y, x*x, x*y, y*y"
   ]
  },
  {
   "cell_type": "markdown",
   "metadata": {},
   "source": [
    "Create a featurizer that the Gaussian process class `GP` will use to convert locations into trend features. The method `mesh.locations()` returns an array of shape `[N, 2]`, where `N` is the number of locations. "
   ]
  },
  {
   "cell_type": "code",
   "execution_count": null,
   "metadata": {},
   "outputs": [],
   "source": [
    "featurizer = NormalizingFeaturizer(trend_terms, mesh.locations())"
   ]
  },
  {
   "cell_type": "markdown",
   "metadata": {},
   "source": [
    "Instantiate a `GP` and immediately call `generate` to generate synthetic observations.\n",
    "  * `parameter0` holds the geostatistical parameters for the `GP`.\n",
    "  * `alpha` parameterizes the normal distribution prior for trend coefficients.\n",
    "  * `mesh_obs()` has shape `[N]`."
   ]
  },
  {
   "cell_type": "code",
   "execution_count": null,
   "metadata": {},
   "outputs": [],
   "source": [
    "mesh_obs = GP(\n",
    "    featurizer = featurizer,\n",
    "    covariance = cf.SquaredExponential() + cf.Noise(),\n",
    "    parameters = dict(range=0.33, sill=1., nugget=0.25),\n",
    "    hyperparameters = dict(alpha=0.2),\n",
    "    verbose=True).generate(mesh.locations())"
   ]
  },
  {
   "cell_type": "markdown",
   "metadata": {},
   "source": [
    "When the data is plotted, you can see an overall trend with some localized variations. The method `mesh.slice()` forms the observations into a 2d array suitable for use with `pcolormesh`."
   ]
  },
  {
   "cell_type": "code",
   "execution_count": null,
   "metadata": {},
   "outputs": [],
   "source": [
    "vmin, vmax = mesh_obs.min(), mesh_obs.max()\n",
    "meshx, meshy, mesh_obs_2d = mesh.slice(mesh_obs) # Each return value is a 2d array.\n",
    "c = pp.pcolormesh(meshx, meshy, mesh_obs_2d, vmin=vmin, vmax=vmax)\n",
    "pp.colorbar(c)\n",
    "pp.title('Synthetic data')\n",
    "pp.show()"
   ]
  },
  {
   "cell_type": "markdown",
   "metadata": {},
   "source": [
    "Of these synthetic datapoints we'll sample just 200, with which we'll try to reconstruct the rest of the data."
   ]
  },
  {
   "cell_type": "code",
   "execution_count": null,
   "metadata": {},
   "outputs": [],
   "source": [
    "sample_indices = np.random.choice(len(mesh_obs), [200], replace=False)\n",
    "locs = mesh.locations()[sample_indices, :]\n",
    "obs = mesh_obs[sample_indices]\n",
    "\n",
    "c = pp.scatter(locs[:, 0], locs[:, 1], c=obs, vmin=vmin, vmax=vmax)\n",
    "pp.colorbar(c)\n",
    "pp.title('Synthetic observations')\n",
    "pp.show()"
   ]
  },
  {
   "cell_type": "markdown",
   "metadata": {},
   "source": [
    "# Inferring parameters"
   ]
  },
  {
   "cell_type": "markdown",
   "metadata": {},
   "source": [
    "Now we create a second `GP`. This time we pass in the data (`locs` and `obs`) and it will fit the geospatial parameters to the data. Here `parameters` holds initial geospatial parameters, which are different that those in the first `GP`, but after fitting they converge to something close."
   ]
  },
  {
   "cell_type": "code",
   "execution_count": null,
   "metadata": {},
   "outputs": [],
   "source": [
    "gp = GP(featurizer = featurizer,\n",
    "        covariance = cf.SquaredExponential() + cf.Noise(),\n",
    "        parameters = dict(range=1.0, sill=0.5, nugget=0.5),\n",
    "        hyperparameters = dict(alpha=obs.ptp()**2, reg=0, train_iters=300),\n",
    "        verbose=True).fit(locs, obs)"
   ]
  },
  {
   "cell_type": "markdown",
   "metadata": {},
   "source": [
    "# Generating predictions\n",
    "\n",
    "Call `GP` to get predictions at the same mesh locations as before:"
   ]
  },
  {
   "cell_type": "code",
   "execution_count": null,
   "metadata": {},
   "outputs": [],
   "source": [
    "mean, var = gp.predict(locs, obs, mesh.locations())"
   ]
  },
  {
   "cell_type": "code",
   "execution_count": null,
   "metadata": {},
   "outputs": [],
   "source": [
    "meshx, meshy, mean2d = mesh.slice(mean) # Each return value is a 2d array.\n",
    "c = pp.pcolormesh(meshx, meshy, mean2d, vmin=vmin, vmax=vmax)\n",
    "pp.colorbar(c)\n",
    "pp.title('Prediction mean')\n",
    "pp.show()"
   ]
  },
  {
   "cell_type": "markdown",
   "metadata": {},
   "source": [
    "For comparison, here's the original synthetic data:"
   ]
  },
  {
   "cell_type": "code",
   "execution_count": null,
   "metadata": {},
   "outputs": [],
   "source": [
    "c = pp.pcolormesh(meshx, meshy, mesh_obs_2d, vmin=vmin, vmax=vmax)\n",
    "pp.colorbar(c)\n",
    "pp.title('Synthetic data')\n",
    "pp.show()"
   ]
  },
  {
   "cell_type": "markdown",
   "metadata": {},
   "source": [
    "And here's a plot of prediction variance, which accounts for, among other things, the noise that the model is unable to reconstruct."
   ]
  },
  {
   "cell_type": "code",
   "execution_count": null,
   "metadata": {},
   "outputs": [],
   "source": [
    "meshx, meshy, var2d = mesh.slice(var) # Each return value is a 2d array.\n",
    "c = pp.pcolormesh(meshx, meshy, var2d, cmap='gist_heat_r')\n",
    "pp.colorbar(c)\n",
    "pp.title('Prediction variance')\n",
    "pp.show()"
   ]
  }
 ],
 "metadata": {
  "kernelspec": {
   "display_name": "geostat",
   "language": "python",
   "name": "geostat"
  },
  "language_info": {
   "codemirror_mode": {
    "name": "ipython",
    "version": 3
   },
   "file_extension": ".py",
   "mimetype": "text/x-python",
   "name": "python",
   "nbconvert_exporter": "python",
   "pygments_lexer": "ipython3",
   "version": "3.9.0"
  }
 },
 "nbformat": 4,
 "nbformat_minor": 2
}
