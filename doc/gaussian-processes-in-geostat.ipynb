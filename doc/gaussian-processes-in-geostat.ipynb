version https://git-lfs.github.com/spec/v1
oid sha256:30e52b51e99317351314cbef3691956903d9e8f257a31680477098a29c8ce333
size 285773
